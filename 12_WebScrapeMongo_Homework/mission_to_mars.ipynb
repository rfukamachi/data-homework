{
 "cells": [
  {
   "cell_type": "markdown",
   "metadata": {},
   "source": []
  },
  {
   "cell_type": "code",
   "execution_count": 19,
   "metadata": {},
   "outputs": [],
   "source": [
    "#################################\n",
    "# DEPENDENCIES:\n",
    "#################################\n",
    "from splinter import Browser\n",
    "from bs4 import BeautifulSoup\n"
   ]
  },
  {
   "cell_type": "code",
   "execution_count": 20,
   "metadata": {},
   "outputs": [],
   "source": [
    "#################################\n",
    "# FUNCTION TO INITIALIZE BROWSER USING CHROME DRIVER \n",
    "# - LOCATED IN THE SAME FOLDER\n",
    "#################################\n",
    "def init_browser():\n",
    "    executable_ath = {\"executable_path\": \"chromedriver\"}\n",
    "    return Browser(\"chrome\", **executable_ath, headless=False)\n"
   ]
  },
  {
   "cell_type": "code",
   "execution_count": 25,
   "metadata": {},
   "outputs": [],
   "source": [
    "#################################\n",
    "# FUNCTION TO SCRAPE NASA\n",
    "# NASA\n",
    "# https://mars.nasa.gov/news/\n",
    "\n",
    "# NASA Mars News\n",
    "# Scrape the NASA Mars News Site and collect the latest News Title and Paragraph Text. \n",
    "# Assign the text to variables that you can reference later.\n",
    "#################################\n",
    "def scrape_nasa():\n",
    "    browser = init_browser()\n",
    "    \n",
    "    nasa_dict = {\n",
    "        \"news_title\": \"\",\n",
    "        \"news_p\": \"\"\n",
    "    }\n",
    "    \n",
    "\n",
    "    url = \"https://mars.nasa.gov/news/\"\n",
    "    browser.visit(url)\n",
    "\n",
    "    html = browser.html\n",
    "    soup = BeautifulSoup(html, \"html.parser\")\n",
    "\n",
    "    nasa_dict[\"news_title\"] = soup.find(\"div\", class_=\"content_title\").get_text()\n",
    "    nasa_dict[\"news_p\"] = soup.find(\"div\", class_=\"article_teaser_body\").get_text()\n",
    "    \n",
    "    browser.quit()\n",
    "   \n",
    "    return nasa_dict\n"
   ]
  },
  {
   "cell_type": "code",
   "execution_count": 30,
   "metadata": {},
   "outputs": [],
   "source": [
    "#################################\n",
    "# FUNCTION TO SCRAPE JPL\n",
    "# JPL\n",
    "# https://www.jpl.nasa.gov/spaceimages/?search=&category=Mars\n",
    "\n",
    "# JPL Mars Space Images - Featured Image\n",
    "# Visit the url for JPL Featured Space Image here.\n",
    "\n",
    "# Use splinter to navigate the site and find the image url for the current Featured Mars Image \n",
    "# and assign the url string to a variable called featured_image_url.\n",
    "\n",
    "# Make sure to find the image url to the full size .jpg image.\n",
    "# Make sure to save a complete url string for this image.\n",
    "\n",
    "# # Example:\n",
    "# featured_image_url = 'https://www.jpl.nasa.gov/spaceimages/images/largesize/PIA16225_hires.jpg'\n",
    "#################################\n",
    "# def scrape_jpl():\n",
    "\n",
    "\n",
    "\n",
    "# browser = init_browser()\n",
    "\n",
    "# featured_image_url = \"\"\n",
    "\n",
    "\n",
    "# url = \"https://www.jpl.nasa.gov/spaceimages/?search=&category=Mars\"\n",
    "# browser.visit(url)\n",
    "\n",
    "# html = browser.html\n",
    "# soup = BeautifulSoup(html, \"html.parser\")\n",
    "\n",
    "# featured_image_url = soup.find(\"img\", {\"style\":\"background-image\"})[src]\n",
    "\n",
    "# featured_image_url\n",
    "# #https://www.jpl.nasa.gov/spaceimages/?search=&category=Mars/spaceimages/images/wallpaper/PIA16567-1920X1200.jpg\n",
    "\n",
    "\n",
    "#     browser.quit()\n",
    "\n",
    "# return featured_image_url"
   ]
  },
  {
   "cell_type": "code",
   "execution_count": 38,
   "metadata": {},
   "outputs": [
    {
     "data": {
      "text/plain": [
       "'\\nKeyboard Shortcuts\\n\\n    Keyboard shortcuts are available for common actions and site navigation.\\n    View Keyboard Shortcuts\\nDismiss this message\\n\\n'"
      ]
     },
     "execution_count": 38,
     "metadata": {},
     "output_type": "execute_result"
    }
   ],
   "source": [
    "#################################\n",
    "# FUNCTION TO SCRAPE MARS WEATHER\n",
    "# MWEATHER\n",
    "# https://twitter.com/marswxreport?lang=en\n",
    "\n",
    "# Mars Weather\n",
    "\n",
    "# Visit the Mars Weather twitter account here and scrape the latest Mars \n",
    "# weather tweet from the page. Save the tweet text for the weather report \n",
    "# as a variable called mars_weather.\n",
    "\n",
    "# # Example:\n",
    "# mars_weather = 'Sol 1801 (Aug 30, 2017), Sunny, high -21C/-5F, \n",
    "# low -80C/-112F, pressure at 8.82 hPa, daylight 06:09-17:55'\n",
    "#################################\n",
    "\n",
    "\n",
    "\n",
    "browser = init_browser()\n",
    "\n",
    "mars_weather = \"\"\n",
    "\n",
    "url = \"https://twitter.com/marswxreport?lang=en\"\n",
    "browser.visit(url)\n",
    "\n",
    "html = browser.html\n",
    "soup = BeautifulSoup(html, \"html.parser\")\n",
    "\n",
    "mars_weather = soup.find(\"div\").get_text()\n",
    "\n",
    "# for x in marstweets:\n",
    "#     print(x)\n",
    "\n",
    "\n",
    "browser.quit()\n",
    "\n",
    "mars_weather\n"
   ]
  },
  {
   "cell_type": "code",
   "execution_count": null,
   "metadata": {},
   "outputs": [],
   "source": [
    "#################################\n",
    "# FUNCTION TO SCRAPE MARS FACTS\n",
    "# MFACTS\n",
    "# https://space-facts.com/mars/\n",
    "#################################\n",
    "\n"
   ]
  },
  {
   "cell_type": "code",
   "execution_count": null,
   "metadata": {},
   "outputs": [],
   "source": [
    "#################################\n",
    "# FUNCTION TO SCRAPE MARS HEMISPHERE\n",
    "# MHEMI\n",
    "# https://astrogeology.usgs.gov/search/results?q=hemisphere+enhanced&k1=target&v1=Mars\n",
    "#################################\n",
    "\n"
   ]
  }
 ],
 "metadata": {
  "kernelspec": {
   "display_name": "Python [conda env:PythonData] *",
   "language": "python",
   "name": "conda-env-PythonData-py"
  },
  "language_info": {
   "codemirror_mode": {
    "name": "ipython",
    "version": 3
   },
   "file_extension": ".py",
   "mimetype": "text/x-python",
   "name": "python",
   "nbconvert_exporter": "python",
   "pygments_lexer": "ipython3",
   "version": "3.7.3"
  }
 },
 "nbformat": 4,
 "nbformat_minor": 2
}
